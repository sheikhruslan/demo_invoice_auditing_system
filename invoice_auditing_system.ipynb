{
 "cells": [
  {
   "cell_type": "code",
   "execution_count": 2,
   "id": "b96f510d",
   "metadata": {
    "lines_to_next_cell": 1
   },
   "outputs": [],
   "source": [
    "import math\n",
    "import re"
   ]
  },
  {
   "cell_type": "code",
   "execution_count": 3,
   "id": "ce23fd0b",
   "metadata": {
    "lines_to_next_cell": 1
   },
   "outputs": [],
   "source": [
    "def validate_invoice_format(invoice_number):\n",
    "    # Define the regex pattern\n",
    "    pattern = r'^[A-Z]\\d{6}[A-Z]\\d{7}(?:\\(\\d\\))?$'\n",
    "\n",
    "    # Check if the invoice number matches the pattern\n",
    "    if re.match(pattern, invoice_number):\n",
    "        return True\n",
    "    else:\n",
    "        return False"
   ]
  },
  {
   "cell_type": "code",
   "execution_count": 4,
   "id": "68d4609c",
   "metadata": {
    "lines_to_next_cell": 1
   },
   "outputs": [],
   "source": [
    "def verify_order_number(order_details):\n",
    "    # Verify if the order number is correct (format and check digit)\n",
    "    if order_details[7] == 'A':\n",
    "        sum = 0\n",
    "        for x in range(1, 7):\n",
    "            sum += int(order_details[x]) * int(order_details[x + 7])\n",
    "        return ((sum + order_details[-2]) % 9 == 0)\n",
    "    elif order_details[7] == 'B':\n",
    "        sum = 0\n",
    "        for x in range(1, 7):\n",
    "            sum += int(order_details[x]) * int(order_details[x + 7])\n",
    "        return ((sum + int(order_details[-2])) % 8 == 0)"
   ]
  },
  {
   "cell_type": "code",
   "execution_count": 5,
   "id": "307c303d",
   "metadata": {
    "lines_to_next_cell": 1
   },
   "outputs": [],
   "source": [
    "def calculate_sub_total(items):\n",
    "    sub_tot = 0\n",
    "    for x in range(0, len(items[0])):\n",
    "        sub_tot += items[1][x]\n",
    "    return sub_tot"
   ]
  },
  {
   "cell_type": "code",
   "execution_count": 6,
   "id": "9d9658e9",
   "metadata": {
    "lines_to_next_cell": 1
   },
   "outputs": [],
   "source": [
    "def calculate_total(sub_tot, vdisc, vvdisc):\n",
    "    info = []\n",
    "    sub_tot += -vdisc\n",
    "    info.append(vdisc)\n",
    "    info.append(math.ceil((sub_tot - (sub_tot * (int(vvdisc[-2:]) / 100))) * 100) / 100)\n",
    "    sub_tot = sub_tot * (int(vvdisc[-2:]) / 100)\n",
    "\n",
    "    if sub_tot <= 500:\n",
    "        sub_tot += 50\n",
    "        info.append(50)\n",
    "    else:\n",
    "        info.append(0)\n",
    "\n",
    "    info.append(math.floor(sub_tot * 100) / 100)\n",
    "    return info"
   ]
  },
  {
   "cell_type": "code",
   "execution_count": 7,
   "id": "09e4a1c9",
   "metadata": {
    "lines_to_next_cell": 1
   },
   "outputs": [],
   "source": [
    "def calculate_hash_total(item_code):\n",
    "    hash_tot = 0\n",
    "    for x in range(0, len(item_code)):\n",
    "        hash_tot += int(item_code[x][-2:])\n",
    "    return hash_tot"
   ]
  },
  {
   "cell_type": "code",
   "execution_count": 8,
   "id": "e40a33bf",
   "metadata": {},
   "outputs": [],
   "source": [
    "def calculate_mall_dollars(total_payment):\n",
    "    if total_payment >= 1000:\n",
    "        return total_payment * 0.002\n",
    "    return 0"
   ]
  },
  {
   "cell_type": "code",
   "execution_count": 9,
   "id": "eabbc1f3",
   "metadata": {
    "lines_to_next_cell": 1
   },
   "outputs": [],
   "source": [
    "def main():\n",
    "    while True:\n",
    "        order_ID = input(\"Enter the Order Number:\\n\")\n",
    "        if not validate_invoice_format(order_ID):\n",
    "            print(\"Incorrect format\")\n",
    "            order_ID = input(\"Enter the Order Number:\\n\")\n",
    "        else:\n",
    "            print(\"Correct format\")\n",
    "            break\n",
    "\n",
    "    item_code = []\n",
    "    item_quant = []\n",
    "    item_pri = []\n",
    "    for x in range(1,int(order_ID[-4])+1):\n",
    "        item_code.append(input(\"Enter the item code: \\n\"))\n",
    "        item_quant.append(int(input(f\"Enter the quantity of item {item_code[x-1]}: \\n\")))\n",
    "        item_pri.append(float(input(f\"Enter the price of item {item_code[x-1]}: \\n\")))\n",
    "    item_info = [item_quant, item_pri]\n",
    "\n",
    "    sub_tot = float(input(\"Enter the subtotal: \\n\"))\n",
    "    total = float(input(\"Enter the total: \\n\"))\n",
    "    del_fee = int(input(\"Enter the delivery fee: \\n\"))\n",
    "    vDisc = float((input(\"Enter your discount amount: \\n\")))\n",
    "    vvDisc = input(\"Enter your discount code: \\n\")\n",
    "    vvDisc_Amount = float(input(\"Enter your VVIP discount amount: \\n\"))\n",
    "\n",
    "    audit_sub_tot = calculate_sub_total(item_info)\n",
    "    audit_total = calculate_total(audit_sub_tot,vDisc,vvDisc)[3]\n",
    "    audit_vdisc = calculate_total(audit_sub_tot,vDisc,vvDisc)[0]\n",
    "    audit_vvdisc = calculate_total(audit_sub_tot, vDisc, vvDisc)[1]\n",
    "    audit_del_fee = calculate_total(audit_sub_tot, vDisc, vvDisc)[2]\n",
    "    audit_Mall_Dol = calculate_mall_dollars(audit_total)\n",
    "    hash_tot = calculate_hash_total(item_code)\n",
    "\n",
    "    if verify_order_number(order_ID):\n",
    "        print(\"The check digit is correct \\n\")\n",
    "    else:\n",
    "        print(\"The check digit is not correct \\n\")\n",
    "\n",
    "    print(f\"The Sub-Total is: {audit_sub_tot}\\n\")\n",
    "    print(f\"The VIP Discount is: {audit_vdisc}\\n\")\n",
    "    print(f\"The VVIP Discount is: {audit_vvdisc}\\n\")\n",
    "    print(f\"The Delivery fee is: {audit_del_fee}\\n\")\n",
    "    print(f\"The Total is: {audit_total}\\n\")\n",
    "    print(f\"The Mall Dollars is: {audit_Mall_Dol}\\n\")\n",
    "    print(f\"The Hash total is: {hash_tot}\\n\")\n",
    "\n",
    "    if sub_tot == audit_sub_tot:\n",
    "        print(\"The calculated sub total is correct\")\n",
    "    else:\n",
    "        print(\"The calculated sub total is incorrect\")\n",
    "    if vDisc == audit_vdisc:\n",
    "        print(\"The calculated VIP discount is correct\")\n",
    "    else:\n",
    "        print(\"The calculated VIP discount is incorrect\")\n",
    "    if vvDisc_Amount == audit_vvdisc:\n",
    "        print(\"The calculated VVIP discount is correct\")\n",
    "    else:\n",
    "        print(\"The calculated VVIP discount is incorrect\")\n",
    "    if total == audit_total:\n",
    "        print(\"The calculated total is correct\")\n",
    "    else:\n",
    "        print(\"The calculated total is incorrect\")\n",
    "    if del_fee == audit_del_fee:\n",
    "        print(\"The calculated delivery fee is correct\")\n",
    "    else:\n",
    "        print(\"The calculated delivery fee is incorrect\")"
   ]
  },
  {
   "cell_type": "code",
   "execution_count": 10,
   "id": "a9e479ff",
   "metadata": {},
   "outputs": [
    {
     "name": "stdout",
     "output_type": "stream",
     "text": [
      "Correct format\n",
      "The check digit is correct \n",
      "\n",
      "The Sub-Total is: 40.0\n",
      "\n",
      "The VIP Discount is: 10.0\n",
      "\n",
      "The VVIP Discount is: 27.0\n",
      "\n",
      "The Delivery fee is: 50\n",
      "\n",
      "The Total is: 53.0\n",
      "\n",
      "The Mall Dollars is: 0\n",
      "\n",
      "The Hash total is: 79\n",
      "\n",
      "The calculated sub total is incorrect\n",
      "The calculated VIP discount is correct\n",
      "The calculated VVIP discount is incorrect\n",
      "The calculated total is incorrect\n",
      "The calculated delivery fee is incorrect\n"
     ]
    }
   ],
   "source": [
    "if __name__ == \"__main__\":\n",
    "    main()"
   ]
  }
 ],
 "metadata": {
  "jupytext": {
   "cell_metadata_filter": "-all",
   "main_language": "python",
   "notebook_metadata_filter": "-all"
  },
  "kernelspec": {
   "display_name": "Python 3",
   "language": "python",
   "name": "python3"
  },
  "language_info": {
   "codemirror_mode": {
    "name": "ipython",
    "version": 3
   },
   "file_extension": ".py",
   "mimetype": "text/x-python",
   "name": "python",
   "nbconvert_exporter": "python",
   "pygments_lexer": "ipython3",
   "version": "3.12.7"
  }
 },
 "nbformat": 4,
 "nbformat_minor": 5
}
